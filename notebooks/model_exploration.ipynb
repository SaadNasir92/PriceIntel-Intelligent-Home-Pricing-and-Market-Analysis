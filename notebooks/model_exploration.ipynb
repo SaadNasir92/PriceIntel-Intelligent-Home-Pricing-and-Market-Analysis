{
 "cells": [
  {
   "cell_type": "code",
   "execution_count": 1,
   "metadata": {},
   "outputs": [
    {
     "name": "stdout",
     "output_type": "stream",
     "text": [
      "<class 'pandas.core.frame.DataFrame'>\n",
      "RangeIndex: 250000 entries, 0 to 249999\n",
      "Data columns (total 28 columns):\n",
      " #   Column                        Non-Null Count   Dtype  \n",
      "---  ------                        --------------   -----  \n",
      " 0   City                          250000 non-null  object \n",
      " 1   Zipcode                       250000 non-null  int64  \n",
      " 2   Marital_Status                250000 non-null  object \n",
      " 3   Family_Size                   250000 non-null  int64  \n",
      " 4   Credit_Score                  250000 non-null  int64  \n",
      " 5   Current_Residence             250000 non-null  object \n",
      " 6   Annual_Income                 250000 non-null  float64\n",
      " 7   DTI                           250000 non-null  float64\n",
      " 8   Location                      250000 non-null  object \n",
      " 9   Square_Footage                250000 non-null  float64\n",
      " 10  Upgrade_Score                 250000 non-null  int64  \n",
      " 11  Bedroom_Count                 250000 non-null  int64  \n",
      " 12  Bathroom_Count                250000 non-null  int64  \n",
      " 13  Master_Location               250000 non-null  object \n",
      " 14  Lot_Size                      250000 non-null  float64\n",
      " 15  Closing_Date                  250000 non-null  object \n",
      " 16  Appraised_Value               250000 non-null  int64  \n",
      " 17  Price                         250000 non-null  float64\n",
      " 18  Closing_Interest_Rate         250000 non-null  float64\n",
      " 19  Monthly_Payment               250000 non-null  int64  \n",
      " 20  Loan_Term                     250000 non-null  int64  \n",
      " 21  Feedback                      250000 non-null  object \n",
      " 22  Inflation_Rate                250000 non-null  float64\n",
      " 23  Unemployment_Rate             250000 non-null  float64\n",
      " 24  Current_Market_Interest_Rate  250000 non-null  float64\n",
      " 25  Year_Closed                   250000 non-null  int64  \n",
      " 26  Median_Price_of_Nearby_Homes  250000 non-null  int64  \n",
      " 27  final_sentiment_score         250000 non-null  float64\n",
      "dtypes: float64(10), int64(11), object(7)\n",
      "memory usage: 53.4+ MB\n",
      "None\n",
      "             Zipcode    Family_Size   Credit_Score  Annual_Income  \\\n",
      "count  250000.000000  250000.000000  250000.000000  250000.000000   \n",
      "mean    36616.105432       1.962676     656.573440   96354.444060   \n",
      "std     23434.784718       0.975438     158.253901   44395.695458   \n",
      "min     10709.000000       1.000000     300.000000  -14340.241657   \n",
      "25%     11818.750000       1.000000     538.000000   58864.937656   \n",
      "50%     33763.000000       2.000000     668.000000   96333.211940   \n",
      "75%     53480.000000       3.000000     820.000000  133753.656927   \n",
      "max     99796.000000       4.000000     843.000000  204981.700914   \n",
      "\n",
      "                DTI  Square_Footage  Upgrade_Score  Bedroom_Count  \\\n",
      "count  2.500000e+05   250000.000000  250000.000000  250000.000000   \n",
      "mean   3.277205e-01     1770.114465       3.101752       2.153036   \n",
      "std    1.995245e-01      829.384141       1.221011       1.058934   \n",
      "min    1.888891e-07      500.000000       1.000000       1.000000   \n",
      "25%    1.613867e-01     1069.020243       2.000000       1.000000   \n",
      "50%    3.215516e-01     1753.109597       3.000000       2.000000   \n",
      "75%    4.750051e-01     2435.816969       4.000000       3.000000   \n",
      "max    8.499990e-01     4000.000000       5.000000       4.000000   \n",
      "\n",
      "       Bathroom_Count       Lot_Size  ...           Price  \\\n",
      "count   250000.000000  250000.000000  ...   250000.000000   \n",
      "mean         1.668608       1.283489  ...   358325.313486   \n",
      "std          0.643544       0.549031  ...   174938.172860   \n",
      "min          1.000000       0.107295  ...   100000.000000   \n",
      "25%          1.000000       0.885574  ...   211435.901269   \n",
      "50%          2.000000       1.344277  ...   350140.597993   \n",
      "75%          2.000000       1.775531  ...   491728.199324   \n",
      "max          3.000000       1.973353  ...  1000000.000000   \n",
      "\n",
      "       Closing_Interest_Rate  Monthly_Payment      Loan_Term  Inflation_Rate  \\\n",
      "count          250000.000000    250000.000000  250000.000000   250000.000000   \n",
      "mean                4.529517      4087.088432      23.284532        3.517656   \n",
      "std                 1.506450       997.639522       6.580288        2.823064   \n",
      "min                 2.524868      1000.000000      15.000000        0.005665   \n",
      "25%                 3.219228      3471.000000      16.000000        1.055731   \n",
      "50%                 4.399297      4406.000000      27.000000        3.154761   \n",
      "75%                 5.629671      4974.000000      30.000000        5.479406   \n",
      "max                 7.411487      4974.000000      30.000000        9.957681   \n",
      "\n",
      "       Unemployment_Rate  Current_Market_Interest_Rate    Year_Closed  \\\n",
      "count      250000.000000                 250000.000000  250000.000000   \n",
      "mean            3.779314                      3.342184    2020.795132   \n",
      "std             2.675092                      1.315760       0.857855   \n",
      "min             0.062623                      2.240142    2020.000000   \n",
      "25%             1.646500                      2.240142    2020.000000   \n",
      "50%             3.531466                      2.836968    2021.000000   \n",
      "75%             5.633692                      4.138440    2021.000000   \n",
      "max             9.949945                      7.874486    2023.000000   \n",
      "\n",
      "       Median_Price_of_Nearby_Homes  final_sentiment_score  \n",
      "count                 250000.000000          250000.000000  \n",
      "mean                  529980.961528               0.073690  \n",
      "std                   292347.933873               0.370224  \n",
      "min                   104621.000000              -0.458800  \n",
      "25%                   260983.500000              -0.145375  \n",
      "50%                   546863.000000               0.096000  \n",
      "75%                   777763.250000               0.096000  \n",
      "max                   990414.000000               0.742400  \n",
      "\n",
      "[8 rows x 21 columns]\n",
      "City                            0\n",
      "Zipcode                         0\n",
      "Marital_Status                  0\n",
      "Family_Size                     0\n",
      "Credit_Score                    0\n",
      "Current_Residence               0\n",
      "Annual_Income                   0\n",
      "DTI                             0\n",
      "Location                        0\n",
      "Square_Footage                  0\n",
      "Upgrade_Score                   0\n",
      "Bedroom_Count                   0\n",
      "Bathroom_Count                  0\n",
      "Master_Location                 0\n",
      "Lot_Size                        0\n",
      "Closing_Date                    0\n",
      "Appraised_Value                 0\n",
      "Price                           0\n",
      "Closing_Interest_Rate           0\n",
      "Monthly_Payment                 0\n",
      "Loan_Term                       0\n",
      "Feedback                        0\n",
      "Inflation_Rate                  0\n",
      "Unemployment_Rate               0\n",
      "Current_Market_Interest_Rate    0\n",
      "Year_Closed                     0\n",
      "Median_Price_of_Nearby_Homes    0\n",
      "final_sentiment_score           0\n",
      "dtype: int64\n"
     ]
    }
   ],
   "source": [
    "import pandas as pd\n",
    "import numpy as np\n",
    "import matplotlib.pyplot as plt\n",
    "import seaborn as sns\n",
    "\n",
    "# Load the data\n",
    "df = pd.read_csv('../data/processed/processed_synthetic.csv')\n",
    "\n",
    "# Display basic information\n",
    "print(df.info())\n",
    "print(df.describe())\n",
    "\n",
    "# Check for missing values\n",
    "print(df.isnull().sum())"
   ]
  },
  {
   "cell_type": "code",
   "execution_count": 13,
   "metadata": {},
   "outputs": [
    {
     "data": {
      "text/plain": [
       "Index(['city', 'zipcode', 'marital_status', 'family_size', 'credit_score',\n",
       "       'current_residence', 'annual_income', 'dti', 'location',\n",
       "       'square_footage', 'upgrade_score', 'bedroom_count', 'bathroom_count',\n",
       "       'master_location', 'lot_size', 'closing_date', 'appraised_value',\n",
       "       'price', 'closing_interest_rate', 'monthly_payment', 'loan_term',\n",
       "       'feedback', 'inflation_rate', 'unemployment_rate',\n",
       "       'current_market_interest_rate', 'year_closed',\n",
       "       'median_price_of_nearby_homes', 'final_sentiment_score'],\n",
       "      dtype='object')"
      ]
     },
     "execution_count": 13,
     "metadata": {},
     "output_type": "execute_result"
    }
   ],
   "source": [
    "df.columns = df.columns.str.lower().str.replace(' ', '_') # replace spaces with underscores in column names to avoid errors.\n",
    "df.columns"
   ]
  },
  {
   "cell_type": "code",
   "execution_count": 15,
   "metadata": {},
   "outputs": [
    {
     "name": "stdout",
     "output_type": "stream",
     "text": [
      "Numerical features: ['zipcode', 'family_size', 'credit_score', 'annual_income', 'dti', 'square_footage', 'upgrade_score', 'bedroom_count', 'bathroom_count', 'lot_size', 'appraised_value', 'price', 'closing_interest_rate', 'monthly_payment', 'loan_term', 'inflation_rate', 'unemployment_rate', 'current_market_interest_rate', 'year_closed', 'median_price_of_nearby_homes', 'final_sentiment_score']\n",
      "Categorical features: ['city', 'marital_status', 'current_residence', 'location', 'master_location', 'closing_date', 'feedback']\n"
     ]
    }
   ],
   "source": [
    "# Identify numerical and categorical features\n",
    "numerical_features = df.select_dtypes(include=[np.number]).columns\n",
    "categorical_features = df.select_dtypes(include=['object']).columns\n",
    "\n",
    "# Histogram for numerical features\n",
    "df[numerical_features].hist(figsize=(20, 15), bins=50)\n",
    "plt.tight_layout()\n",
    "plt.savefig('numerical_distributions.png')\n",
    "plt.close()\n",
    "\n",
    "# Bar plots for categorical features\n",
    "for feature in categorical_features:\n",
    "    plt.figure(figsize=(10, 6))\n",
    "    df[feature].value_counts().plot(kind='bar')\n",
    "    plt.title(f'Distribution of {feature}')\n",
    "    plt.savefig(f'{feature}_distribution.png')\n",
    "    plt.close()\n",
    "\n",
    "print(\"Numerical features:\", list(numerical_features))\n",
    "print(\"Categorical features:\", list(categorical_features))"
   ]
  },
  {
   "cell_type": "code",
   "execution_count": 18,
   "metadata": {},
   "outputs": [
    {
     "name": "stdout",
     "output_type": "stream",
     "text": [
      "count     250000.000000\n",
      "mean      358325.313486\n",
      "std       174938.172860\n",
      "min       100000.000000\n",
      "25%       211435.901269\n",
      "50%       350140.597993\n",
      "75%       491728.199324\n",
      "max      1000000.000000\n",
      "Name: price, dtype: float64\n"
     ]
    }
   ],
   "source": [
    "# Distribution of the target variable\n",
    "plt.figure(figsize=(10, 6))\n",
    "sns.histplot(df['price'], kde=True)\n",
    "plt.title('Distribution of House Prices')\n",
    "plt.savefig('price_distribution.png')\n",
    "plt.close()\n",
    "\n",
    "# Summary statistics of Price\n",
    "print(df['price'].describe())\n",
    "\n",
    "# Box plot of Price vs. categorical features\n",
    "for feature in categorical_features:\n",
    "    plt.figure(figsize=(12, 6))\n",
    "    sns.boxplot(x=feature, y='price', data=df)\n",
    "    plt.xticks(rotation=45)\n",
    "    plt.title(f'Price vs {feature}')\n",
    "    plt.savefig(f'price_vs_{feature}.png')\n",
    "    plt.close()"
   ]
  },
  {
   "cell_type": "code",
   "execution_count": 19,
   "metadata": {},
   "outputs": [
    {
     "name": "stdout",
     "output_type": "stream",
     "text": [
      "High correlations (>0.7):\n",
      "annual_income - square_footage: 0.94\n",
      "annual_income - price: 0.86\n",
      "square_footage - price: 0.91\n"
     ]
    }
   ],
   "source": [
    "# Correlation matrix for numerical features\n",
    "correlation_matrix = df[numerical_features].corr()\n",
    "plt.figure(figsize=(15, 12))\n",
    "sns.heatmap(correlation_matrix, annot=True, cmap='coolwarm', linewidths=0.5)\n",
    "plt.title('Correlation Matrix of Numerical Features')\n",
    "plt.savefig('correlation_matrix.png')\n",
    "plt.close()\n",
    "\n",
    "# Print high correlations\n",
    "high_correlations = np.where(np.abs(correlation_matrix) > 0.7)\n",
    "high_correlations = [(correlation_matrix.index[x], correlation_matrix.columns[y], correlation_matrix.iloc[x, y]) \n",
    "                     for x, y in zip(*high_correlations) if x != y and x < y]\n",
    "print(\"High correlations (>0.7):\")\n",
    "for corr in high_correlations:\n",
    "    print(f\"{corr[0]} - {corr[1]}: {corr[2]:.2f}\")"
   ]
  },
  {
   "cell_type": "code",
   "execution_count": 21,
   "metadata": {},
   "outputs": [
    {
     "name": "stdout",
     "output_type": "stream",
     "text": [
      "Correlations with Price:\n",
      "price                           1.000000\n",
      "square_footage                  0.914480\n",
      "annual_income                   0.856267\n",
      "bedroom_count                   0.005077\n",
      "inflation_rate                  0.002423\n",
      "monthly_payment                 0.001912\n",
      "zipcode                         0.001452\n",
      "upgrade_score                   0.001426\n",
      "credit_score                    0.001281\n",
      "family_size                     0.000881\n",
      "final_sentiment_score           0.000590\n",
      "median_price_of_nearby_homes    0.000512\n",
      "year_closed                     0.000198\n",
      "current_market_interest_rate   -0.000117\n",
      "loan_term                      -0.000244\n",
      "bathroom_count                 -0.000460\n",
      "appraised_value                -0.002365\n",
      "lot_size                       -0.002473\n",
      "dti                            -0.003162\n",
      "unemployment_rate              -0.003395\n",
      "closing_interest_rate          -0.004068\n",
      "Name: price, dtype: float64\n"
     ]
    }
   ],
   "source": [
    "# Scatter plots for key numerical features vs Price\n",
    "key_features = ['square_footage', 'upgrade_score', 'credit_score', 'annual_income', 'dti', 'appraised_value']\n",
    "for feature in key_features:\n",
    "    plt.figure(figsize=(10, 6))\n",
    "    sns.scatterplot(x=feature, y='price', data=df)\n",
    "    plt.title(f'{feature} vs Price')\n",
    "    plt.savefig(f'{feature}_vs_price.png')\n",
    "    plt.close()\n",
    "\n",
    "# Print correlations with Price\n",
    "price_correlations = correlation_matrix['price'].sort_values(ascending=False)\n",
    "print(\"Correlations with Price:\")\n",
    "print(price_correlations)"
   ]
  },
  {
   "cell_type": "code",
   "execution_count": 22,
   "metadata": {},
   "outputs": [],
   "source": [
    "df.to_csv('../data/processed/processed_synthetic_cleaned.csv', index=False)"
   ]
  },
  {
   "cell_type": "code",
   "execution_count": null,
   "metadata": {},
   "outputs": [],
   "source": []
  }
 ],
 "metadata": {
  "kernelspec": {
   "display_name": "Python (builder venv)",
   "language": "python",
   "name": "builder_venv"
  },
  "language_info": {
   "codemirror_mode": {
    "name": "ipython",
    "version": 3
   },
   "file_extension": ".py",
   "mimetype": "text/x-python",
   "name": "python",
   "nbconvert_exporter": "python",
   "pygments_lexer": "ipython3",
   "version": "3.12.1"
  }
 },
 "nbformat": 4,
 "nbformat_minor": 2
}
