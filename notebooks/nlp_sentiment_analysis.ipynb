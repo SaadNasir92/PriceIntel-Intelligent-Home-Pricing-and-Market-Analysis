{
 "cells": [
  {
   "cell_type": "code",
   "execution_count": 27,
   "metadata": {},
   "outputs": [],
   "source": [
    "import pandas as pd\n",
    "import re\n",
    "import nltk\n",
    "from nltk.corpus import stopwords\n",
    "from nltk.tokenize import word_tokenize\n",
    "from nltk.sentiment import SentimentIntensityAnalyzer\n",
    "import numpy as np\n",
    "import matplotlib.pyplot as plt"
   ]
  },
  {
   "cell_type": "code",
   "execution_count": 2,
   "metadata": {},
   "outputs": [],
   "source": [
    "data_file_path = '../data/raw/synthetic.csv'"
   ]
  },
  {
   "cell_type": "code",
   "execution_count": 3,
   "metadata": {},
   "outputs": [],
   "source": [
    "df = pd.read_csv(data_file_path, usecols=['Feedback'], nrows=10000)"
   ]
  },
  {
   "cell_type": "code",
   "execution_count": 10,
   "metadata": {},
   "outputs": [
    {
     "data": {
      "text/plain": [
       "Feedback                                                        \n",
       "Very happy with the final product, but the timeline was delayed.    4057\n",
       "The process was smooth but some issues with the kitchen.            3057\n",
       "The home is fantastic, I love the upgrades!                         1934\n",
       "Had a terrible experience with the customer service.                 952\n",
       "Name: count, dtype: int64"
      ]
     },
     "execution_count": 10,
     "metadata": {},
     "output_type": "execute_result"
    }
   ],
   "source": [
    "df.value_counts()"
   ]
  },
  {
   "cell_type": "code",
   "execution_count": 13,
   "metadata": {},
   "outputs": [
    {
     "name": "stderr",
     "output_type": "stream",
     "text": [
      "[nltk_data] Downloading package punkt to\n",
      "[nltk_data]     C:\\Users\\saad\\AppData\\Roaming\\nltk_data...\n",
      "[nltk_data]   Unzipping tokenizers\\punkt.zip.\n",
      "[nltk_data] Downloading package stopwords to\n",
      "[nltk_data]     C:\\Users\\saad\\AppData\\Roaming\\nltk_data...\n",
      "[nltk_data]   Unzipping corpora\\stopwords.zip.\n"
     ]
    },
    {
     "data": {
      "text/plain": [
       "True"
      ]
     },
     "execution_count": 13,
     "metadata": {},
     "output_type": "execute_result"
    }
   ],
   "source": [
    "nltk.download('punkt')\n",
    "nltk.download('stopwords')\n"
   ]
  },
  {
   "cell_type": "code",
   "execution_count": 14,
   "metadata": {},
   "outputs": [],
   "source": [
    "def preprocess_text(text):\n",
    "    # Convert to lowercase\n",
    "    text = text.lower()\n",
    "    \n",
    "    # Remove special characters and digits\n",
    "    text = re.sub(r'[^a-zA-Z\\s]', '', text)\n",
    "    \n",
    "    # Tokenize\n",
    "    tokens = word_tokenize(text)\n",
    "    \n",
    "    # Remove stopwords\n",
    "    stop_words = set(stopwords.words('english'))\n",
    "    tokens = [token for token in tokens if token not in stop_words]\n",
    "    \n",
    "    # Join tokens back into string\n",
    "    cleaned_text = ' '.join(tokens)\n",
    "    \n",
    "    return cleaned_text"
   ]
  },
  {
   "cell_type": "code",
   "execution_count": 15,
   "metadata": {},
   "outputs": [
    {
     "data": {
      "text/html": [
       "<div>\n",
       "<style scoped>\n",
       "    .dataframe tbody tr th:only-of-type {\n",
       "        vertical-align: middle;\n",
       "    }\n",
       "\n",
       "    .dataframe tbody tr th {\n",
       "        vertical-align: top;\n",
       "    }\n",
       "\n",
       "    .dataframe thead th {\n",
       "        text-align: right;\n",
       "    }\n",
       "</style>\n",
       "<table border=\"1\" class=\"dataframe\">\n",
       "  <thead>\n",
       "    <tr style=\"text-align: right;\">\n",
       "      <th></th>\n",
       "      <th>Feedback</th>\n",
       "      <th>cleaned_feedback</th>\n",
       "    </tr>\n",
       "  </thead>\n",
       "  <tbody>\n",
       "    <tr>\n",
       "      <th>0</th>\n",
       "      <td>Very happy with the final product, but the tim...</td>\n",
       "      <td>happy final product timeline delayed</td>\n",
       "    </tr>\n",
       "    <tr>\n",
       "      <th>1</th>\n",
       "      <td>Very happy with the final product, but the tim...</td>\n",
       "      <td>happy final product timeline delayed</td>\n",
       "    </tr>\n",
       "    <tr>\n",
       "      <th>2</th>\n",
       "      <td>The process was smooth but some issues with th...</td>\n",
       "      <td>process smooth issues kitchen</td>\n",
       "    </tr>\n",
       "    <tr>\n",
       "      <th>3</th>\n",
       "      <td>The process was smooth but some issues with th...</td>\n",
       "      <td>process smooth issues kitchen</td>\n",
       "    </tr>\n",
       "    <tr>\n",
       "      <th>4</th>\n",
       "      <td>Very happy with the final product, but the tim...</td>\n",
       "      <td>happy final product timeline delayed</td>\n",
       "    </tr>\n",
       "    <tr>\n",
       "      <th>...</th>\n",
       "      <td>...</td>\n",
       "      <td>...</td>\n",
       "    </tr>\n",
       "    <tr>\n",
       "      <th>9995</th>\n",
       "      <td>The process was smooth but some issues with th...</td>\n",
       "      <td>process smooth issues kitchen</td>\n",
       "    </tr>\n",
       "    <tr>\n",
       "      <th>9996</th>\n",
       "      <td>The home is fantastic, I love the upgrades!</td>\n",
       "      <td>home fantastic love upgrades</td>\n",
       "    </tr>\n",
       "    <tr>\n",
       "      <th>9997</th>\n",
       "      <td>Very happy with the final product, but the tim...</td>\n",
       "      <td>happy final product timeline delayed</td>\n",
       "    </tr>\n",
       "    <tr>\n",
       "      <th>9998</th>\n",
       "      <td>The home is fantastic, I love the upgrades!</td>\n",
       "      <td>home fantastic love upgrades</td>\n",
       "    </tr>\n",
       "    <tr>\n",
       "      <th>9999</th>\n",
       "      <td>Very happy with the final product, but the tim...</td>\n",
       "      <td>happy final product timeline delayed</td>\n",
       "    </tr>\n",
       "  </tbody>\n",
       "</table>\n",
       "<p>10000 rows × 2 columns</p>\n",
       "</div>"
      ],
      "text/plain": [
       "                                               Feedback  \\\n",
       "0     Very happy with the final product, but the tim...   \n",
       "1     Very happy with the final product, but the tim...   \n",
       "2     The process was smooth but some issues with th...   \n",
       "3     The process was smooth but some issues with th...   \n",
       "4     Very happy with the final product, but the tim...   \n",
       "...                                                 ...   \n",
       "9995  The process was smooth but some issues with th...   \n",
       "9996        The home is fantastic, I love the upgrades!   \n",
       "9997  Very happy with the final product, but the tim...   \n",
       "9998        The home is fantastic, I love the upgrades!   \n",
       "9999  Very happy with the final product, but the tim...   \n",
       "\n",
       "                          cleaned_feedback  \n",
       "0     happy final product timeline delayed  \n",
       "1     happy final product timeline delayed  \n",
       "2            process smooth issues kitchen  \n",
       "3            process smooth issues kitchen  \n",
       "4     happy final product timeline delayed  \n",
       "...                                    ...  \n",
       "9995         process smooth issues kitchen  \n",
       "9996          home fantastic love upgrades  \n",
       "9997  happy final product timeline delayed  \n",
       "9998          home fantastic love upgrades  \n",
       "9999  happy final product timeline delayed  \n",
       "\n",
       "[10000 rows x 2 columns]"
      ]
     },
     "execution_count": 15,
     "metadata": {},
     "output_type": "execute_result"
    }
   ],
   "source": [
    "df['cleaned_feedback'] = df['Feedback'].apply(preprocess_text)\n",
    "\n"
   ]
  },
  {
   "cell_type": "code",
   "execution_count": 16,
   "metadata": {},
   "outputs": [
    {
     "data": {
      "text/html": [
       "<div>\n",
       "<style scoped>\n",
       "    .dataframe tbody tr th:only-of-type {\n",
       "        vertical-align: middle;\n",
       "    }\n",
       "\n",
       "    .dataframe tbody tr th {\n",
       "        vertical-align: top;\n",
       "    }\n",
       "\n",
       "    .dataframe thead th {\n",
       "        text-align: right;\n",
       "    }\n",
       "</style>\n",
       "<table border=\"1\" class=\"dataframe\">\n",
       "  <thead>\n",
       "    <tr style=\"text-align: right;\">\n",
       "      <th></th>\n",
       "      <th>Feedback</th>\n",
       "      <th>cleaned_feedback</th>\n",
       "    </tr>\n",
       "  </thead>\n",
       "  <tbody>\n",
       "    <tr>\n",
       "      <th>0</th>\n",
       "      <td>Very happy with the final product, but the tim...</td>\n",
       "      <td>happy final product timeline delayed</td>\n",
       "    </tr>\n",
       "    <tr>\n",
       "      <th>1</th>\n",
       "      <td>Very happy with the final product, but the tim...</td>\n",
       "      <td>happy final product timeline delayed</td>\n",
       "    </tr>\n",
       "    <tr>\n",
       "      <th>2</th>\n",
       "      <td>The process was smooth but some issues with th...</td>\n",
       "      <td>process smooth issues kitchen</td>\n",
       "    </tr>\n",
       "    <tr>\n",
       "      <th>3</th>\n",
       "      <td>The process was smooth but some issues with th...</td>\n",
       "      <td>process smooth issues kitchen</td>\n",
       "    </tr>\n",
       "    <tr>\n",
       "      <th>4</th>\n",
       "      <td>Very happy with the final product, but the tim...</td>\n",
       "      <td>happy final product timeline delayed</td>\n",
       "    </tr>\n",
       "  </tbody>\n",
       "</table>\n",
       "</div>"
      ],
      "text/plain": [
       "                                            Feedback  \\\n",
       "0  Very happy with the final product, but the tim...   \n",
       "1  Very happy with the final product, but the tim...   \n",
       "2  The process was smooth but some issues with th...   \n",
       "3  The process was smooth but some issues with th...   \n",
       "4  Very happy with the final product, but the tim...   \n",
       "\n",
       "                       cleaned_feedback  \n",
       "0  happy final product timeline delayed  \n",
       "1  happy final product timeline delayed  \n",
       "2         process smooth issues kitchen  \n",
       "3         process smooth issues kitchen  \n",
       "4  happy final product timeline delayed  "
      ]
     },
     "execution_count": 16,
     "metadata": {},
     "output_type": "execute_result"
    }
   ],
   "source": [
    "df.head()"
   ]
  },
  {
   "cell_type": "code",
   "execution_count": 18,
   "metadata": {},
   "outputs": [
    {
     "name": "stderr",
     "output_type": "stream",
     "text": [
      "[nltk_data] Downloading package vader_lexicon to\n",
      "[nltk_data]     C:\\Users\\saad\\AppData\\Roaming\\nltk_data...\n"
     ]
    },
    {
     "data": {
      "text/plain": [
       "True"
      ]
     },
     "execution_count": 18,
     "metadata": {},
     "output_type": "execute_result"
    }
   ],
   "source": [
    "nltk.download('vader_lexicon')\n"
   ]
  },
  {
   "cell_type": "code",
   "execution_count": 19,
   "metadata": {},
   "outputs": [],
   "source": [
    "def get_sentiment_score(text):\n",
    "    sia = SentimentIntensityAnalyzer()\n",
    "    sentiment_scores = sia.polarity_scores(text)\n",
    "    return sentiment_scores['compound']"
   ]
  },
  {
   "cell_type": "code",
   "execution_count": 20,
   "metadata": {},
   "outputs": [],
   "source": [
    "df['sentiment_score'] = df['Feedback'].apply(get_sentiment_score)\n"
   ]
  },
  {
   "cell_type": "code",
   "execution_count": 21,
   "metadata": {},
   "outputs": [
    {
     "data": {
      "text/html": [
       "<div>\n",
       "<style scoped>\n",
       "    .dataframe tbody tr th:only-of-type {\n",
       "        vertical-align: middle;\n",
       "    }\n",
       "\n",
       "    .dataframe tbody tr th {\n",
       "        vertical-align: top;\n",
       "    }\n",
       "\n",
       "    .dataframe thead th {\n",
       "        text-align: right;\n",
       "    }\n",
       "</style>\n",
       "<table border=\"1\" class=\"dataframe\">\n",
       "  <thead>\n",
       "    <tr style=\"text-align: right;\">\n",
       "      <th></th>\n",
       "      <th>Feedback</th>\n",
       "      <th>cleaned_feedback</th>\n",
       "      <th>sentiment_score</th>\n",
       "    </tr>\n",
       "  </thead>\n",
       "  <tbody>\n",
       "    <tr>\n",
       "      <th>0</th>\n",
       "      <td>Very happy with the final product, but the tim...</td>\n",
       "      <td>happy final product timeline delayed</td>\n",
       "      <td>0.0378</td>\n",
       "    </tr>\n",
       "    <tr>\n",
       "      <th>1</th>\n",
       "      <td>Very happy with the final product, but the tim...</td>\n",
       "      <td>happy final product timeline delayed</td>\n",
       "      <td>0.0378</td>\n",
       "    </tr>\n",
       "    <tr>\n",
       "      <th>2</th>\n",
       "      <td>The process was smooth but some issues with th...</td>\n",
       "      <td>process smooth issues kitchen</td>\n",
       "      <td>0.0000</td>\n",
       "    </tr>\n",
       "    <tr>\n",
       "      <th>3</th>\n",
       "      <td>The process was smooth but some issues with th...</td>\n",
       "      <td>process smooth issues kitchen</td>\n",
       "      <td>0.0000</td>\n",
       "    </tr>\n",
       "    <tr>\n",
       "      <th>4</th>\n",
       "      <td>Very happy with the final product, but the tim...</td>\n",
       "      <td>happy final product timeline delayed</td>\n",
       "      <td>0.0378</td>\n",
       "    </tr>\n",
       "  </tbody>\n",
       "</table>\n",
       "</div>"
      ],
      "text/plain": [
       "                                            Feedback  \\\n",
       "0  Very happy with the final product, but the tim...   \n",
       "1  Very happy with the final product, but the tim...   \n",
       "2  The process was smooth but some issues with th...   \n",
       "3  The process was smooth but some issues with th...   \n",
       "4  Very happy with the final product, but the tim...   \n",
       "\n",
       "                       cleaned_feedback  sentiment_score  \n",
       "0  happy final product timeline delayed           0.0378  \n",
       "1  happy final product timeline delayed           0.0378  \n",
       "2         process smooth issues kitchen           0.0000  \n",
       "3         process smooth issues kitchen           0.0000  \n",
       "4  happy final product timeline delayed           0.0378  "
      ]
     },
     "execution_count": 21,
     "metadata": {},
     "output_type": "execute_result"
    }
   ],
   "source": [
    "df.head()"
   ]
  },
  {
   "cell_type": "code",
   "execution_count": 22,
   "metadata": {},
   "outputs": [
    {
     "name": "stdout",
     "output_type": "stream",
     "text": [
      "Average sentiment score: 0.13316388\n"
     ]
    }
   ],
   "source": [
    "average_sentiment = np.mean(df['sentiment_score'])\n",
    "print(f\"Average sentiment score: {average_sentiment}\")"
   ]
  },
  {
   "cell_type": "code",
   "execution_count": 23,
   "metadata": {},
   "outputs": [
    {
     "data": {
      "text/plain": [
       "count    10000.000000\n",
       "mean         0.133164\n",
       "std          0.377131\n",
       "min         -0.476700\n",
       "25%          0.000000\n",
       "50%          0.037800\n",
       "75%          0.037800\n",
       "max          0.843900\n",
       "Name: sentiment_score, dtype: float64"
      ]
     },
     "execution_count": 23,
     "metadata": {},
     "output_type": "execute_result"
    }
   ],
   "source": [
    "df['sentiment_score'].describe()"
   ]
  },
  {
   "cell_type": "code",
   "execution_count": 24,
   "metadata": {},
   "outputs": [
    {
     "name": "stdout",
     "output_type": "stream",
     "text": [
      "                                               Feedback  sentiment_score\n",
      "1415        The home is fantastic, I love the upgrades!           0.8439\n",
      "4347  Had a terrible experience with the customer se...          -0.4767\n",
      "9917  The process was smooth but some issues with th...           0.0000\n",
      "8676        The home is fantastic, I love the upgrades!           0.8439\n",
      "3278  Very happy with the final product, but the tim...           0.0378\n",
      "834   The process was smooth but some issues with th...           0.0000\n",
      "561   Very happy with the final product, but the tim...           0.0378\n",
      "1863  Very happy with the final product, but the tim...           0.0378\n",
      "479   Very happy with the final product, but the tim...           0.0378\n",
      "8173  The process was smooth but some issues with th...           0.0000\n",
      "2639        The home is fantastic, I love the upgrades!           0.8439\n",
      "8086  The process was smooth but some issues with th...           0.0000\n",
      "30    Very happy with the final product, but the tim...           0.0378\n",
      "6122        The home is fantastic, I love the upgrades!           0.8439\n",
      "595   The process was smooth but some issues with th...           0.0000\n",
      "1909  Very happy with the final product, but the tim...           0.0378\n",
      "8554        The home is fantastic, I love the upgrades!           0.8439\n",
      "2655  Very happy with the final product, but the tim...           0.0378\n",
      "4803        The home is fantastic, I love the upgrades!           0.8439\n",
      "790   The process was smooth but some issues with th...           0.0000\n"
     ]
    }
   ],
   "source": [
    "sample = df[['Feedback', 'sentiment_score']].sample(20)\n",
    "print(sample)"
   ]
  },
  {
   "cell_type": "code",
   "execution_count": 25,
   "metadata": {},
   "outputs": [
    {
     "data": {
      "text/html": [
       "<div>\n",
       "<style scoped>\n",
       "    .dataframe tbody tr th:only-of-type {\n",
       "        vertical-align: middle;\n",
       "    }\n",
       "\n",
       "    .dataframe tbody tr th {\n",
       "        vertical-align: top;\n",
       "    }\n",
       "\n",
       "    .dataframe thead th {\n",
       "        text-align: right;\n",
       "    }\n",
       "</style>\n",
       "<table border=\"1\" class=\"dataframe\">\n",
       "  <thead>\n",
       "    <tr style=\"text-align: right;\">\n",
       "      <th></th>\n",
       "      <th>Feedback</th>\n",
       "      <th>sentiment_score</th>\n",
       "    </tr>\n",
       "  </thead>\n",
       "  <tbody>\n",
       "    <tr>\n",
       "      <th>3972</th>\n",
       "      <td>The process was smooth but some issues with th...</td>\n",
       "      <td>0.0000</td>\n",
       "    </tr>\n",
       "    <tr>\n",
       "      <th>7716</th>\n",
       "      <td>The process was smooth but some issues with th...</td>\n",
       "      <td>0.0000</td>\n",
       "    </tr>\n",
       "    <tr>\n",
       "      <th>4117</th>\n",
       "      <td>The process was smooth but some issues with th...</td>\n",
       "      <td>0.0000</td>\n",
       "    </tr>\n",
       "    <tr>\n",
       "      <th>1421</th>\n",
       "      <td>The home is fantastic, I love the upgrades!</td>\n",
       "      <td>0.8439</td>\n",
       "    </tr>\n",
       "    <tr>\n",
       "      <th>1102</th>\n",
       "      <td>Had a terrible experience with the customer se...</td>\n",
       "      <td>-0.4767</td>\n",
       "    </tr>\n",
       "    <tr>\n",
       "      <th>8164</th>\n",
       "      <td>The process was smooth but some issues with th...</td>\n",
       "      <td>0.0000</td>\n",
       "    </tr>\n",
       "    <tr>\n",
       "      <th>874</th>\n",
       "      <td>The process was smooth but some issues with th...</td>\n",
       "      <td>0.0000</td>\n",
       "    </tr>\n",
       "    <tr>\n",
       "      <th>4480</th>\n",
       "      <td>Very happy with the final product, but the tim...</td>\n",
       "      <td>0.0378</td>\n",
       "    </tr>\n",
       "    <tr>\n",
       "      <th>1292</th>\n",
       "      <td>The process was smooth but some issues with th...</td>\n",
       "      <td>0.0000</td>\n",
       "    </tr>\n",
       "    <tr>\n",
       "      <th>2359</th>\n",
       "      <td>The process was smooth but some issues with th...</td>\n",
       "      <td>0.0000</td>\n",
       "    </tr>\n",
       "  </tbody>\n",
       "</table>\n",
       "</div>"
      ],
      "text/plain": [
       "                                               Feedback  sentiment_score\n",
       "3972  The process was smooth but some issues with th...           0.0000\n",
       "7716  The process was smooth but some issues with th...           0.0000\n",
       "4117  The process was smooth but some issues with th...           0.0000\n",
       "1421        The home is fantastic, I love the upgrades!           0.8439\n",
       "1102  Had a terrible experience with the customer se...          -0.4767\n",
       "8164  The process was smooth but some issues with th...           0.0000\n",
       "874   The process was smooth but some issues with th...           0.0000\n",
       "4480  Very happy with the final product, but the tim...           0.0378\n",
       "1292  The process was smooth but some issues with th...           0.0000\n",
       "2359  The process was smooth but some issues with th...           0.0000"
      ]
     },
     "execution_count": 25,
     "metadata": {},
     "output_type": "execute_result"
    }
   ],
   "source": [
    "df[['Feedback', 'sentiment_score']].sample(10)"
   ]
  },
  {
   "cell_type": "code",
   "execution_count": 26,
   "metadata": {},
   "outputs": [
    {
     "data": {
      "text/plain": [
       "count    10000.000000\n",
       "mean         0.133164\n",
       "std          0.377131\n",
       "min         -0.476700\n",
       "25%          0.000000\n",
       "50%          0.037800\n",
       "75%          0.037800\n",
       "max          0.843900\n",
       "Name: sentiment_score, dtype: float64"
      ]
     },
     "execution_count": 26,
     "metadata": {},
     "output_type": "execute_result"
    }
   ],
   "source": [
    "df['sentiment_score'].describe()"
   ]
  },
  {
   "cell_type": "code",
   "execution_count": 28,
   "metadata": {},
   "outputs": [
    {
     "data": {
      "text/plain": [
       "<Axes: >"
      ]
     },
     "execution_count": 28,
     "metadata": {},
     "output_type": "execute_result"
    },
    {
     "data": {
      "image/png": "[encoded data removed]",
      "text/plain": [
       "<Figure size 640x480 with 1 Axes>"
      ]
     },
     "metadata": {},
     "output_type": "display_data"
    }
   ],
   "source": [
    "df['sentiment_score'].hist()"
   ]
  },
  {
   "cell_type": "code",
   "execution_count": 32,
   "metadata": {},
   "outputs": [
    {
     "data": {
      "text/plain": [
       "0"
      ]
     },
     "execution_count": 32,
     "metadata": {},
     "output_type": "execute_result"
    }
   ],
   "source": [
    "get_sentiment_score(\"Very happy with the final product, but the timeline was delayed\")"
   ]
  },
  {
   "cell_type": "code",
   "execution_count": 35,
   "metadata": {},
   "outputs": [],
   "source": [
    "# Testing complete - using full data set now.\n",
    "df = pd.read_csv(data_file_path)"
   ]
  },
  {
   "cell_type": "code",
   "execution_count": 36,
   "metadata": {},
   "outputs": [
    {
     "name": "stdout",
     "output_type": "stream",
     "text": [
      "                                                 Feedback  \\\n",
      "29804         The home is fantastic, I love the upgrades!   \n",
      "123037        The home is fantastic, I love the upgrades!   \n",
      "61089   Very happy with the final product, but the tim...   \n",
      "208254  Very happy with the final product, but the tim...   \n",
      "244938  The process was smooth but some issues with th...   \n",
      "207726  Very happy with the final product, but the tim...   \n",
      "160470        The home is fantastic, I love the upgrades!   \n",
      "51871   Had a terrible experience with the customer se...   \n",
      "73928         The home is fantastic, I love the upgrades!   \n",
      "25755   Had a terrible experience with the customer se...   \n",
      "\n",
      "        refined_sentiment_score  final_sentiment_score  \n",
      "29804                    0.7424               0.742400  \n",
      "123037                   0.7424               0.742400  \n",
      "61089                   -0.1163              -0.145375  \n",
      "208254                  -0.1163              -0.145375  \n",
      "244938                   0.1280               0.096000  \n",
      "207726                  -0.1163              -0.145375  \n",
      "160470                   0.7424               0.742400  \n",
      "51871                   -0.4588              -0.458800  \n",
      "73928                    0.7424               0.742400  \n",
      "25755                   -0.4588              -0.458800  \n",
      "\n",
      "Refined Sentiment Score Statistics:\n",
      "count    250000.000000\n",
      "mean          0.094929\n",
      "std           0.364144\n",
      "min          -0.458800\n",
      "25%          -0.116300\n",
      "50%           0.128000\n",
      "75%           0.128000\n",
      "max           0.742400\n",
      "Name: refined_sentiment_score, dtype: float64\n",
      "\n",
      "Final Sentiment Score Statistics:\n",
      "count    250000.000000\n",
      "mean          0.073690\n",
      "std           0.370224\n",
      "min          -0.458800\n",
      "25%          -0.145375\n",
      "50%           0.096000\n",
      "75%           0.096000\n",
      "max           0.742400\n",
      "Name: final_sentiment_score, dtype: float64\n"
     ]
    },
    {
     "data": {
      "image/png": "[encoded data removed]",
      "text/plain": [
       "<Figure size 1000x600 with 1 Axes>"
      ]
     },
     "metadata": {},
     "output_type": "display_data"
    },
    {
     "name": "stdout",
     "output_type": "stream",
     "text": [
      "Refined neutral scores: 0\n",
      "Refined score range: -0.4588 to 0.7424\n",
      "\n",
      "Sentence: Very happy with the final product, but the timeline was delayed\n",
      "Initial score: -0.1163\n",
      "Final score: -0.145375\n",
      "\n",
      "Sentence: The process was smooth but some issues with the kitchen\n",
      "Initial score: 0.128\n",
      "Final score: 0.096\n",
      "\n",
      "Sentence: The home is fantastic, I love the upgrades!\n",
      "Initial score: 0.7424\n",
      "Final score: 0.7424\n",
      "\n",
      "Sentence: Had a terrible experience with the customer service\n",
      "Initial score: -0.4588\n",
      "Final score: -0.4588\n"
     ]
    }
   ],
   "source": [
    "nltk.download('vader_lexicon', quiet=True)\n",
    "\n",
    "# Initialize VADER sentiment analyzer\n",
    "sia = SentimentIntensityAnalyzer()\n",
    "\n",
    "# Add custom lexicon\n",
    "custom_lexicon = {\n",
    "    'upgrade': 2.0,\n",
    "    'spacious': 1.5,\n",
    "    'delay': -1.5,\n",
    "    'issue': -1.0,\n",
    "    'smooth': 1.0,\n",
    "    'fantastic': 2.0,\n",
    "    'terrible': -2.0,\n",
    "    'happy': 1.5,\n",
    "    'love': 2.0,\n",
    "}\n",
    "sia.lexicon.update(custom_lexicon)\n",
    "\n",
    "def get_sentiment_score(text):\n",
    "    sentiment_scores = sia.polarity_scores(text)\n",
    "    return sentiment_scores['compound']\n",
    "\n",
    "def adjust_mixed_sentiment(text, score):\n",
    "    if \"but\" in text.lower() or \"however\" in text.lower():\n",
    "        # Reduce the absolute value of the score for mixed sentiments\n",
    "        return score * 0.75 if score > 0 else score * 1.25\n",
    "    return score\n",
    "\n",
    "# Apply refined sentiment analysis\n",
    "df['refined_sentiment_score'] = df['Feedback'].apply(get_sentiment_score)\n",
    "df['final_sentiment_score'] = df.apply(lambda row: adjust_mixed_sentiment(row['Feedback'], row['refined_sentiment_score']), axis=1)\n",
    "\n",
    "# Display results\n",
    "print(df[['Feedback', 'refined_sentiment_score', 'final_sentiment_score']].sample(10))\n",
    "\n",
    "# Calculate and display statistics\n",
    "print(\"\\nRefined Sentiment Score Statistics:\")\n",
    "print(df['refined_sentiment_score'].describe())\n",
    "\n",
    "print(\"\\nFinal Sentiment Score Statistics:\")\n",
    "print(df['final_sentiment_score'].describe())\n",
    "\n",
    "\n",
    "plt.figure(figsize=(10, 6))\n",
    "df['final_sentiment_score'].hist(bins=20)\n",
    "plt.title('Distribution of Final Sentiment Scores')\n",
    "plt.xlabel('Sentiment Score')\n",
    "plt.ylabel('Frequency')\n",
    "plt.show()\n",
    "\n",
    "print(f\"Refined neutral scores: {(df['final_sentiment_score'] == 0).sum()}\")\n",
    "\n",
    "print(f\"Refined score range: {df['final_sentiment_score'].min()} to {df['final_sentiment_score'].max()}\")\n",
    "\n",
    "# Test on specific examples\n",
    "test_sentences = [\n",
    "    \"Very happy with the final product, but the timeline was delayed\",\n",
    "    \"The process was smooth but some issues with the kitchen\",\n",
    "    \"The home is fantastic, I love the upgrades!\",\n",
    "    \"Had a terrible experience with the customer service\"\n",
    "]\n",
    "\n",
    "for sentence in test_sentences:\n",
    "    score = get_sentiment_score(sentence)\n",
    "    final_score = adjust_mixed_sentiment(sentence, score)\n",
    "    print(f\"\\nSentence: {sentence}\")\n",
    "    print(f\"Initial score: {score}\")\n",
    "    print(f\"Final score: {final_score}\")"
   ]
  },
  {
   "cell_type": "code",
   "execution_count": 37,
   "metadata": {},
   "outputs": [
    {
     "data": {
      "text/html": [
       "<div>\n",
       "<style scoped>\n",
       "    .dataframe tbody tr th:only-of-type {\n",
       "        vertical-align: middle;\n",
       "    }\n",
       "\n",
       "    .dataframe tbody tr th {\n",
       "        vertical-align: top;\n",
       "    }\n",
       "\n",
       "    .dataframe thead th {\n",
       "        text-align: right;\n",
       "    }\n",
       "</style>\n",
       "<table border=\"1\" class=\"dataframe\">\n",
       "  <thead>\n",
       "    <tr style=\"text-align: right;\">\n",
       "      <th></th>\n",
       "      <th>City</th>\n",
       "      <th>Zipcode</th>\n",
       "      <th>Marital_Status</th>\n",
       "      <th>Family_Size</th>\n",
       "      <th>Credit_Score</th>\n",
       "      <th>Current_Residence</th>\n",
       "      <th>Annual_Income</th>\n",
       "      <th>DTI</th>\n",
       "      <th>Location</th>\n",
       "      <th>Square_Footage</th>\n",
       "      <th>...</th>\n",
       "      <th>Loan_Term</th>\n",
       "      <th>Feedback</th>\n",
       "      <th>Inflation_Rate</th>\n",
       "      <th>Unemployment_Rate</th>\n",
       "      <th>Current_Market_Interest_Rate</th>\n",
       "      <th>Year_Closed</th>\n",
       "      <th>Median_Price_of_Nearby_Homes</th>\n",
       "      <th>Sentiment_Score</th>\n",
       "      <th>refined_sentiment_score</th>\n",
       "      <th>final_sentiment_score</th>\n",
       "    </tr>\n",
       "  </thead>\n",
       "  <tbody>\n",
       "    <tr>\n",
       "      <th>0</th>\n",
       "      <td>Dallas</td>\n",
       "      <td>52837</td>\n",
       "      <td>Married</td>\n",
       "      <td>4</td>\n",
       "      <td>471</td>\n",
       "      <td>Own</td>\n",
       "      <td>31887.745006</td>\n",
       "      <td>0.328359</td>\n",
       "      <td>Urban</td>\n",
       "      <td>635.573453</td>\n",
       "      <td>...</td>\n",
       "      <td>19</td>\n",
       "      <td>Very happy with the final product, but the tim...</td>\n",
       "      <td>8.128591</td>\n",
       "      <td>8.134932</td>\n",
       "      <td>7.874486</td>\n",
       "      <td>2020</td>\n",
       "      <td>288647</td>\n",
       "      <td>0.5</td>\n",
       "      <td>-0.1163</td>\n",
       "      <td>-0.145375</td>\n",
       "    </tr>\n",
       "    <tr>\n",
       "      <th>1</th>\n",
       "      <td>Josephine</td>\n",
       "      <td>45664</td>\n",
       "      <td>Unmarried</td>\n",
       "      <td>3</td>\n",
       "      <td>724</td>\n",
       "      <td>Own</td>\n",
       "      <td>65232.219782</td>\n",
       "      <td>0.537171</td>\n",
       "      <td>Suburban</td>\n",
       "      <td>1489.058748</td>\n",
       "      <td>...</td>\n",
       "      <td>15</td>\n",
       "      <td>Very happy with the final product, but the tim...</td>\n",
       "      <td>6.559587</td>\n",
       "      <td>3.071274</td>\n",
       "      <td>2.240142</td>\n",
       "      <td>2021</td>\n",
       "      <td>321436</td>\n",
       "      <td>0.5</td>\n",
       "      <td>-0.1163</td>\n",
       "      <td>-0.145375</td>\n",
       "    </tr>\n",
       "    <tr>\n",
       "      <th>2</th>\n",
       "      <td>Little Elm</td>\n",
       "      <td>17451</td>\n",
       "      <td>Unmarried</td>\n",
       "      <td>1</td>\n",
       "      <td>762</td>\n",
       "      <td>Rent</td>\n",
       "      <td>159888.836069</td>\n",
       "      <td>0.105950</td>\n",
       "      <td>Suburban</td>\n",
       "      <td>2797.489668</td>\n",
       "      <td>...</td>\n",
       "      <td>30</td>\n",
       "      <td>The process was smooth but some issues with th...</td>\n",
       "      <td>0.005665</td>\n",
       "      <td>3.462208</td>\n",
       "      <td>3.308767</td>\n",
       "      <td>2020</td>\n",
       "      <td>490369</td>\n",
       "      <td>0.4</td>\n",
       "      <td>0.1280</td>\n",
       "      <td>0.096000</td>\n",
       "    </tr>\n",
       "    <tr>\n",
       "      <th>3</th>\n",
       "      <td>Aubrey</td>\n",
       "      <td>32232</td>\n",
       "      <td>Married</td>\n",
       "      <td>3</td>\n",
       "      <td>843</td>\n",
       "      <td>Own</td>\n",
       "      <td>180134.006893</td>\n",
       "      <td>0.218590</td>\n",
       "      <td>Suburban</td>\n",
       "      <td>3512.923786</td>\n",
       "      <td>...</td>\n",
       "      <td>29</td>\n",
       "      <td>The process was smooth but some issues with th...</td>\n",
       "      <td>0.005665</td>\n",
       "      <td>3.691785</td>\n",
       "      <td>2.712408</td>\n",
       "      <td>2020</td>\n",
       "      <td>206882</td>\n",
       "      <td>0.4</td>\n",
       "      <td>0.1280</td>\n",
       "      <td>0.096000</td>\n",
       "    </tr>\n",
       "    <tr>\n",
       "      <th>4</th>\n",
       "      <td>Frisco</td>\n",
       "      <td>35764</td>\n",
       "      <td>Married</td>\n",
       "      <td>2</td>\n",
       "      <td>782</td>\n",
       "      <td>Own</td>\n",
       "      <td>113806.317489</td>\n",
       "      <td>0.207404</td>\n",
       "      <td>Rural</td>\n",
       "      <td>2411.702711</td>\n",
       "      <td>...</td>\n",
       "      <td>30</td>\n",
       "      <td>Very happy with the final product, but the tim...</td>\n",
       "      <td>6.993261</td>\n",
       "      <td>4.473198</td>\n",
       "      <td>4.475365</td>\n",
       "      <td>2021</td>\n",
       "      <td>899601</td>\n",
       "      <td>0.5</td>\n",
       "      <td>-0.1163</td>\n",
       "      <td>-0.145375</td>\n",
       "    </tr>\n",
       "  </tbody>\n",
       "</table>\n",
       "<p>5 rows × 30 columns</p>\n",
       "</div>"
      ],
      "text/plain": [
       "         City  Zipcode Marital_Status  Family_Size  Credit_Score  \\\n",
       "0      Dallas    52837        Married            4           471   \n",
       "1   Josephine    45664      Unmarried            3           724   \n",
       "2  Little Elm    17451      Unmarried            1           762   \n",
       "3      Aubrey    32232        Married            3           843   \n",
       "4      Frisco    35764        Married            2           782   \n",
       "\n",
       "  Current_Residence  Annual_Income       DTI  Location  Square_Footage  ...  \\\n",
       "0               Own   31887.745006  0.328359     Urban      635.573453  ...   \n",
       "1               Own   65232.219782  0.537171  Suburban     1489.058748  ...   \n",
       "2              Rent  159888.836069  0.105950  Suburban     2797.489668  ...   \n",
       "3               Own  180134.006893  0.218590  Suburban     3512.923786  ...   \n",
       "4               Own  113806.317489  0.207404     Rural     2411.702711  ...   \n",
       "\n",
       "   Loan_Term                                           Feedback  \\\n",
       "0         19  Very happy with the final product, but the tim...   \n",
       "1         15  Very happy with the final product, but the tim...   \n",
       "2         30  The process was smooth but some issues with th...   \n",
       "3         29  The process was smooth but some issues with th...   \n",
       "4         30  Very happy with the final product, but the tim...   \n",
       "\n",
       "   Inflation_Rate Unemployment_Rate  Current_Market_Interest_Rate Year_Closed  \\\n",
       "0        8.128591          8.134932                      7.874486        2020   \n",
       "1        6.559587          3.071274                      2.240142        2021   \n",
       "2        0.005665          3.462208                      3.308767        2020   \n",
       "3        0.005665          3.691785                      2.712408        2020   \n",
       "4        6.993261          4.473198                      4.475365        2021   \n",
       "\n",
       "   Median_Price_of_Nearby_Homes  Sentiment_Score  refined_sentiment_score  \\\n",
       "0                        288647              0.5                  -0.1163   \n",
       "1                        321436              0.5                  -0.1163   \n",
       "2                        490369              0.4                   0.1280   \n",
       "3                        206882              0.4                   0.1280   \n",
       "4                        899601              0.5                  -0.1163   \n",
       "\n",
       "   final_sentiment_score  \n",
       "0              -0.145375  \n",
       "1              -0.145375  \n",
       "2               0.096000  \n",
       "3               0.096000  \n",
       "4              -0.145375  \n",
       "\n",
       "[5 rows x 30 columns]"
      ]
     },
     "execution_count": 37,
     "metadata": {},
     "output_type": "execute_result"
    }
   ],
   "source": [
    "df.head()"
   ]
  },
  {
   "cell_type": "code",
   "execution_count": 38,
   "metadata": {},
   "outputs": [],
   "source": [
    "df.drop(columns=['refined_sentiment_score', 'Sentiment_Score']).to_csv('../data/processed/processed_synthetic.csv',index=False)"
   ]
  },
  {
   "cell_type": "code",
   "execution_count": null,
   "metadata": {},
   "outputs": [],
   "source": []
  }
 ],
 "metadata": {
  "kernelspec": {
   "display_name": "Python (builder venv)",
   "language": "python",
   "name": "builder_venv"
  },
  "language_info": {
   "codemirror_mode": {
    "name": "ipython",
    "version": 3
   },
   "file_extension": ".py",
   "mimetype": "text/x-python",
   "name": "python",
   "nbconvert_exporter": "python",
   "pygments_lexer": "ipython3",
   "version": "3.12.1"
  }
 },
 "nbformat": 4,
 "nbformat_minor": 2
}
